{
 "cells": [
  {
   "cell_type": "markdown",
   "metadata": {},
   "source": [
    "# 1. Introduction  \n",
    "### Describe PE2  \n",
    "PE2 courses use programming to address practical issues in engineering. Through this, we aim to master the ability to solve automation, data analysis, and modeling problems addressed in the industrial field.  "
   ]
  },
  {
   "cell_type": "markdown",
   "metadata": {},
   "source": [
    "### Describe your team members and roles for each members  "
   ]
  },
  {
   "cell_type": "markdown",
   "metadata": {},
   "source": [
    "![재혁](https://media.discordapp.net/attachments/848924937712435253/848925361429020692/1.jpg)"
   ]
  },
  {
   "cell_type": "markdown",
   "metadata": {},
   "source": [
    "Park Jae Hyuk  \n",
    "- Leader of the team\n",
    "- Provides overall direction for the project\n",
    "- Modified the details of the coding of the team members.\n",
    "- Giving feedback on coding to team members  "
   ]
  },
  {
   "cell_type": "markdown",
   "metadata": {},
   "source": [
    "![태현](https://media.discordapp.net/attachments/848924937712435253/848925364272758845/2.png)"
   ]
  },
  {
   "cell_type": "markdown",
   "metadata": {},
   "source": [
    "Noh Tae-hyun  \n",
    "- Shared materials to help with coding  \n",
    "- Create presentation materials  \n",
    "- Partially coding for each module "
   ]
  },
  {
   "cell_type": "markdown",
   "metadata": {},
   "source": [
    "![혜란](https://media.discordapp.net/attachments/848924937712435253/848925359298445332/4.jpg)"
   ]
  },
  {
   "cell_type": "markdown",
   "metadata": {},
   "source": [
    "Lee Hye-ran  \n",
    "- Share usage of specific libraries  \n",
    "- Partially coding for each module  \n",
    "- Presenting and creating the overall flow of presentation materials  \n",
    "\n",
    "---"
   ]
  },
  {
   "cell_type": "markdown",
   "metadata": {},
   "source": [
    "# 2. Object of project\n",
    "### Explain object of project\n",
    "First all, this project is intended to create modules for large amounts of data to understand information about the data. We tried to analyze the modulation performance of the modulator easily. When a client provides data to a developer, the developer creates software for the data received from the client.  \n",
    "\n",
    "![picture](https://cdn.discordapp.com/attachments/851355322635386880/852827590884720670/unknown.png)\n",
    "---"
   ]
  },
  {
   "cell_type": "markdown",
   "metadata": {},
   "source": [
    "# 3. Structure of code\n",
    "### Explain your code\n",
    "#### 1) src_directory.py  \n",
    "- It allows Python to perform several functions imported by os, and determines whether a specified path exists.\n",
    "\n",
    "```\n",
    "import os\n",
    "\n",
    "def create_folder(directory):\n",
    "    try:\n",
    "        if not os.path.exists(directory):\n",
    "            os.makedirs(directory)\n",
    "    except OSError:\n",
    "        print('Error: Creating directory. ' + directory)\n",
    "```"
   ]
  },
  {
   "cell_type": "markdown",
   "metadata": {},
   "source": [
    "#### 2) src_extract.py  \n",
    "- We imported the necessary libraries to extract the data and defined a function that stores data. \n",
    "- We used a method of generating an empty list of data and values and then adding values. For example, 'TestSiteInfo' added a value for the item 'Batch'. \n",
    "- We added parts that needed more information from the script.\n",
    "- In order to add the obtained value to the data and create a Dataframe object, Python's dictionary was used to create additional results in the csv file, and included conditions for adding folders if present and creating them if not.\n",
    "\n",
    "```\n",
    "import pandas\n",
    "import xml.etree.ElementTree as ET\n",
    "from dateutil.parser import parse\n",
    "import os\n",
    "from . import graph\n",
    "from . import path\n",
    "from . import directory\n",
    "\n",
    "    data = []\n",
    "    values = []\n",
    "\n",
    "    TestSiteInfo = root.find('TestSiteInfo').attrib\n",
    "    values.append(TestSiteInfo['Batch'])\n",
    "\n",
    "    # script needs additional information.\n",
    "    data.append(values)\n",
    "    df = pandas.DataFrame(data, columns=columns).set_index(\"Lot\")\n",
    "    save_route = path.path() + '/result/csv_{}'.format(time)\n",
    "    directory.create_folder(save_route)\n",
    "    if not os.path.exists(save_route + '/analyzed.csv'):\n",
    "        df.to_csv(save_route + '/analyzed.csv', mode='w')\n",
    "    else:\n",
    "        df.to_csv(save_route + '/analyzed.csv', mode='a', header=False)\n"
   ]
  },
  {
   "cell_type": "markdown",
   "metadata": {},
   "source": [
    "#### 3) src_graph.py  \n",
    "- We define polyfit, IV, graph functions and find and fit points where the R^square value is maximum. \n",
    "- Then, we visualized the fitted graph. \n",
    "- We also added options on whether to show or save graphs.\n",
    "```\n",
    "def polyfit(x, y, degree):\n",
    "    results = {}\n",
    "    coeffs = np.polyfit(x, y, degree)\n",
    "    results['polynomial'] = coeffs.tolist()\n",
    "    p = np.poly1d(coeffs)\n",
    "    yhat = p(x)\n",
    "    ybar = np.sum(y)/len(y)\n",
    "    ssreg = np.sum((yhat-ybar)**2)\n",
    "    sstot = np.sum((y - ybar)**2)\n",
    "    results['determination'] = ssreg / sstot\n",
    "    return results\n",
    " ```   \n",
    " ```   \n",
    "if show is True:\n",
    "    plt.show(block=False)\n",
    "    plt.pause(3)   \n",
    "if save is True:\n",
    "    save_path = path.path() + '/result/graph_{}/lot'.format(time) + sub_path\n",
    "    directory.create_folder(save_path)\n",
    "    plt.savefig(save_path + '/' + image_path[-1][:-4] + '.png')\n",
    "    plt.close()\n",
    "```"
   ]
  },
  {
   "cell_type": "markdown",
   "metadata": {},
   "source": [
    "#### 4) src_path.py  \n",
    "- We imported the os and defined the function path.\n",
    "- The function checks the current working path divided by '\\\\\\\\' and returns it by putting '/' between the values.\n",
    "\n",
    "```\n",
    "import os\n",
    "\n",
    "def path():\n",
    "    p = '/'.join(os.getcwd().split(\"\\\\\"))\n",
    "    return p\n",
    "```"
   ]
  },
  {
   "cell_type": "markdown",
   "metadata": {},
   "source": [
    "#### 5) src_process.py  \n",
    "- Through the 'glob' library, only certain files were printed using the path name of the file.\n",
    "- We define the all function and visualize the state progress using 'tqdm'. \n",
    "- The definition of the wafer and coordinate functions is that flag = false is used to repeat the statement while the condition is false.\n",
    "```\n",
    "import glob\n",
    "from glob import glob\n",
    "from tqdm import tqdm\n",
    "```"
   ]
  },
  {
   "cell_type": "markdown",
   "metadata": {},
   "source": [
    "#### 6) run.py\n",
    "- We imported sys, a module that allows direct control of variables and functions provided by Python interpreters. \n",
    "- Dialog defined a new class in GUI programming, using a purpose-built dialog class as a window for user interaction. \n",
    "- We put wafer and coordinate as options to choose whether to show or save graphs.\n",
    "```\n",
    "import sys\n",
    "from PyQt5.QtWidgets import *\n",
    "from PyQt5.QtCore import *\n",
    "from src import gui\n",
    "```\n",
    "```\n",
    "if __name__ == \"__main__\":\n",
    "    app = QApplication(sys.argv)\n",
    "    window = gui.MainWindow()\n",
    "    window.show()\n",
    "    app.exec_()\n",
    "```"
   ]
  },
  {
   "cell_type": "markdown",
   "metadata": {},
   "source": [
    "#### 7) .gitignore\n",
    "- We used gitignore to prevent loss due to data conflicts and to prevent unwanted files from being uploaded.\n",
    "```\n",
    "data/*  \n",
    "```\n",
    "```\n",
    "result/*  \n",
    "```\n",
    "```\n",
    ".idea/*  \n",
    "```\n",
    "```\n",
    "__pycache__/*  \n",
    "```\n",
    "```\n",
    "test.py  \n",
    "```\n",
    "```\n",
    "test2.py  \n",
    "```\n",
    "```\n",
    "src/__pycache__  \n",
    "```"
   ]
  },
  {
   "cell_type": "markdown",
   "metadata": {},
   "source": [
    "# 4. Example of analysis result\n",
    "### Show a sample image of analysis result  "
   ]
  },
  {
   "cell_type": "markdown",
   "metadata": {},
   "source": [
    "![analysis result](https://cdn.discordapp.com/attachments/851355322635386880/852829676095406081/unknown.png)"
   ]
  },
  {
   "cell_type": "markdown",
   "metadata": {},
   "source": [
    "### Show a table in csv file"
   ]
  },
  {
   "cell_type": "markdown",
   "metadata": {},
   "source": [
    "![csv file](https://cdn.discordapp.com/attachments/851355322635386880/852830058769809408/unknown.png)  \n",
    "\n",
    "---"
   ]
  },
  {
   "cell_type": "markdown",
   "metadata": {},
   "source": [
    "# 5. Result of wafer-to-wafer using csv file"
   ]
  },
  {
   "cell_type": "markdown",
   "metadata": {},
   "source": [
    "- description 1\n"
   ]
  },
  {
   "cell_type": "code",
   "execution_count": 8,
   "metadata": {},
   "outputs": [
    {
     "name": "stdout",
     "output_type": "stream",
     "text": [
      "        Lot Wafer      Mask  TestSite                  Name  \\\n",
      "0   P184640   D07  GORILLA5  DCM_LMZC  MZMCTE_LULAB_450_500   \n",
      "1   P184640   D07  GORILLA5  DCM_LMZC  MZMCTE_LULAB_450_500   \n",
      "2   P184640   D07  GORILLA5  DCM_LMZC  MZMCTE_LULAB_450_500   \n",
      "3   P184640   D07  GORILLA5  DCM_LMZC  MZMCTE_LULAB_450_500   \n",
      "4   P184640   D07  GORILLA5  DCM_LMZC  MZMCTE_LULAB_450_500   \n",
      "..      ...   ...       ...       ...                   ...   \n",
      "93  P184640   D24  GORILLA5  DCM_LMZO  MZMOTE_LULAB_380_500   \n",
      "94  P184640   D24  GORILLA5  DCM_LMZO  MZMOTE_LULAB_380_500   \n",
      "95  P184640   D24  GORILLA5  DCM_LMZO  MZMOTE_LULAB_380_500   \n",
      "96  P184640   D24  GORILLA5  DCM_LMZO  MZMOTE_LULAB_380_500   \n",
      "97  P184640   D24  GORILLA5  DCM_LMZO  MZMOTE_LULAB_380_500   \n",
      "\n",
      "                   Date  Row  Column  ErrorFlag Error description  \\\n",
      "0   2019-07-15 19:15:38   -1      -1          0          No Error   \n",
      "1   2019-07-15 19:21:45   -1      -3          0          No Error   \n",
      "2   2019-07-15 20:22:17   -1       3          0          No Error   \n",
      "3   2019-07-15 19:51:42   -3      -3          0          No Error   \n",
      "4   2019-07-15 19:39:43   -3       0          0          No Error   \n",
      "..                  ...  ...     ...        ...               ...   \n",
      "93  2019-06-03 23:26:10    0       2          0          No Error   \n",
      "94  2019-06-03 23:17:44    2      -1          0          No Error   \n",
      "95  2019-06-04 00:08:26    2      -3          0          No Error   \n",
      "96  2019-06-04 00:25:25    2       2          0          No Error   \n",
      "97  2019-06-04 00:16:57    3       0          0          No Error   \n",
      "\n",
      "    Analysis Wavelength  Rsq of Ref. spectrum (Nth)  \\\n",
      "0                  1550                    0.998434   \n",
      "1                  1550                    0.997227   \n",
      "2                  1550                    0.997172   \n",
      "3                  1550                    0.996162   \n",
      "4                  1550                    0.998104   \n",
      "..                  ...                         ...   \n",
      "93                 1310                    0.998932   \n",
      "94                 1310                    0.998371   \n",
      "95                 1310                    0.998761   \n",
      "96                 1310                    0.998004   \n",
      "97                 1310                    0.998598   \n",
      "\n",
      "    Max transmission of Ref. spec. (dB)  Rsq of IV  I at -1V [A]  I at 1V[A]  \n",
      "0                             -7.706903   0.992475  2.603237e-08   -0.006702  \n",
      "1                             -8.910147   0.992586  4.890819e-08   -0.006328  \n",
      "2                             -9.376518   0.992571  4.591942e-08   -0.006376  \n",
      "3                             -8.187534   0.992643  5.465495e-08   -0.006316  \n",
      "4                             -8.772166   0.992568  4.814727e-08   -0.006533  \n",
      "..                                  ...        ...           ...         ...  \n",
      "93                            -5.579454   0.994056  2.787125e-07   -0.003623  \n",
      "94                            -5.534558   0.994169  2.901249e-07   -0.004257  \n",
      "95                            -5.957448   0.994003  2.511984e-07   -0.004634  \n",
      "96                            -5.796686   0.993806  2.305046e-07   -0.004387  \n",
      "97                            -5.815928   0.993863  2.369815e-07   -0.004201  \n",
      "\n",
      "[98 rows x 16 columns]\n"
     ]
    }
   ],
   "source": [
    "import pandas as pd\n",
    "data = pd.read_csv(r'C:\\Users\\이혜란\\OneDrive\\바탕 화면\\csv_2021_06_11_17_15_47\\analyzed.csv')\n",
    "print(data)"
   ]
  },
  {
   "cell_type": "code",
   "execution_count": null,
   "metadata": {},
   "outputs": [],
   "source": []
  }
 ],
 "metadata": {
  "kernelspec": {
   "display_name": "Python 3",
   "language": "python",
   "name": "python3"
  },
  "language_info": {
   "codemirror_mode": {
    "name": "ipython",
    "version": 3
   },
   "file_extension": ".py",
   "mimetype": "text/x-python",
   "name": "python",
   "nbconvert_exporter": "python",
   "pygments_lexer": "ipython3",
   "version": "3.8.5"
  }
 },
 "nbformat": 4,
 "nbformat_minor": 4
}
